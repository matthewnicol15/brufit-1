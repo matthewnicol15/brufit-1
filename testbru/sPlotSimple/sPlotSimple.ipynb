{
 "cells": [
  {
   "cell_type": "markdown",
   "metadata": {},
   "source": [
    "# sPlot with simple Gaussian and polynomial PDFs\n",
    "\n",
    "Fit a pseudo data missing mass distribution to produce sWeights then use them to plot Signal weighted distribution for other variables.\n",
    "\n",
    "Note the weights are stored in a Weights object which then can be loaded into other fits. [Weights.h](https://github.com/dglazier/brufit/blob/master/core/Weights.h)"
   ]
  },
  {
   "cell_type": "markdown",
   "metadata": {},
   "source": [
    "Load brufit using ROOT python bindings and initialise jsroot for drawing histograms."
   ]
  },
  {
   "cell_type": "code",
   "execution_count": null,
   "metadata": {},
   "outputs": [],
   "source": [
    "import ROOT\n",
    "ROOT.gROOT.ProcessLine(\".x $BRUFIT/macros/LoadBru.C\")\n",
    "%jsroot"
   ]
  },
  {
   "cell_type": "markdown",
   "metadata": {},
   "source": [
    "First you will need to generate some data. This is done with a ROOT macro generating random numbers from TF1 functions. It can be executed from the following notebook GenerateData\n",
    "Link to [Generate Data](GenerateData.ipynb)"
   ]
  },
  {
   "cell_type": "markdown",
   "metadata": {},
   "source": [
    "Create the sPlot fit manager and set the ouput directory for fit results, plots and weights"
   ]
  },
  {
   "cell_type": "code",
   "execution_count": null,
   "metadata": {},
   "outputs": [],
   "source": [
    "splot = ROOT.sPlot()\n",
    "splot.SetUp().SetOutDir(\"out\")"
   ]
  },
  {
   "cell_type": "markdown",
   "metadata": {},
   "source": [
    "Define the fit variable as Mmiss which is the name of a branch in the tree and set the fit range to 0-10"
   ]
  },
  {
   "cell_type": "code",
   "execution_count": null,
   "metadata": {},
   "outputs": [],
   "source": [
    "splot.SetUp().LoadVariable(\"Mmiss[0,10]\");"
   ]
  },
  {
   "cell_type": "markdown",
   "metadata": {},
   "source": [
    "Set the name of the event ID variable. The input tree should have a double branch with a unique event ID number, in this case it is fgID."
   ]
  },
  {
   "cell_type": "code",
   "execution_count": null,
   "metadata": {},
   "outputs": [],
   "source": [
    "splot.SetUp().SetIDBranchName(\"fgID\")"
   ]
  },
  {
   "cell_type": "markdown",
   "metadata": {},
   "source": [
    "Make a signal PDF. Here we will use a Gaussian distribution with mean and width parameters smean (initial value 6, allowed values between 4-7) and swidth (initial value 0.2, allowed values between 0.0001 and 3). The PDF is given the name Signal.\n",
    "\n",
    "We then load it into the total fit PDF with LoadSpeciesPDF"
   ]
  },
  {
   "cell_type": "code",
   "execution_count": null,
   "metadata": {},
   "outputs": [],
   "source": [
    "splot.SetUp().FactoryPDF(\"Gaussian::Signal( Mmiss, smean[6,4,7], swidth[0.2,0.0001,3] )\");\n",
    "splot.SetUp().LoadSpeciesPDF(\"Signal\")"
   ]
  },
  {
   "cell_type": "markdown",
   "metadata": {},
   "source": [
    "Make a background PDF as a 2nd degree Chebychev polynomial with coefficients a0 (starting -0.1 between -1 and 1) and a1. The PDF is given the name BG"
   ]
  },
  {
   "cell_type": "code",
   "execution_count": null,
   "metadata": {},
   "outputs": [],
   "source": [
    "splot.SetUp().FactoryPDF(\"Chebychev::BG(Mmiss,{a0[-0.1,-1,1],a1[0.1,-1,1]})\");\n",
    "splot.SetUp().LoadSpeciesPDF(\"BG\",1)"
   ]
  },
  {
   "cell_type": "markdown",
   "metadata": {},
   "source": [
    "Load the data giving the tree name then the file name."
   ]
  },
  {
   "cell_type": "code",
   "execution_count": null,
   "metadata": {},
   "outputs": [],
   "source": [
    "dirname=ROOT.gSystem.pwd();\n",
    "splot.LoadData(\"MyModel\",dirname+\"/Data.root\")"
   ]
  },
  {
   "cell_type": "markdown",
   "metadata": {},
   "source": [
    "Run the fit locally, this will also create the sWeights for each event. When it is finished it will dosplay a plot of the signal and background fit to Mmiss and also show the residual and pull plots between the fit and data"
   ]
  },
  {
   "cell_type": "code",
   "execution_count": null,
   "metadata": {
    "scrolled": true
   },
   "outputs": [],
   "source": [
    "ROOT.Here.Go(splot)"
   ]
  },
  {
   "cell_type": "markdown",
   "metadata": {},
   "source": [
    "Now we will draw the resulting weighted distributions. First create canvases for drawing on."
   ]
  },
  {
   "cell_type": "code",
   "execution_count": null,
   "metadata": {},
   "outputs": [],
   "source": [
    "from ROOT import TCanvas\n",
    "canvas = TCanvas(\"WeightedPlots\",\"WeightedPlots\")\n",
    "canvas.Divide(2,2);"
   ]
  },
  {
   "cell_type": "markdown",
   "metadata": {},
   "source": [
    "Now get the truth tree so we can compare true to weighted distributions."
   ]
  },
  {
   "cell_type": "code",
   "execution_count": null,
   "metadata": {},
   "outputs": [],
   "source": [
    "fileTree =  ROOT.FiledTree.Read(\"MyModel\",\"Data.root\")\n",
    "trueTree = fileTree.Tree()"
   ]
  },
  {
   "cell_type": "markdown",
   "metadata": {},
   "source": [
    "And draw the weighted distributions using sPlot::DrawWeighted. The first string takes standard ROOT TTree::Draw arguments. The second is the name of the PDF corresponding to the species you want to draw.\n",
    "\n",
    "trueTree is just a normal ROOT TTree.\n",
    "\n",
    "The plots will appear when canvas.Draw() is called, which is in the following cell after the background histograms have been created. The weighted distributions will be points with error bars, the true distributions will be solid line histograms.\n"
   ]
  },
  {
   "cell_type": "code",
   "execution_count": null,
   "metadata": {},
   "outputs": [],
   "source": [
    "canvas.cd(1)\n",
    "splot.DrawWeighted(\"M1>>hM1(100,0,10)\",\"Signal\");\n",
    "trueTree.Draw(\"M1\",\"Sig==1\",\"same hist\");\n",
    "canvas.cd(2)\n",
    "splot.DrawWeighted(\"M2>>hM2(100,0,10)\",\"Signal\");\n",
    "trueTree.Draw(\"M2\",\"Sig==1\",\"same hist\");"
   ]
  },
  {
   "cell_type": "markdown",
   "metadata": {},
   "source": [
    "Now for our background weighted distributions."
   ]
  },
  {
   "cell_type": "code",
   "execution_count": null,
   "metadata": {},
   "outputs": [],
   "source": [
    "canvas.cd(3)\n",
    "splot.DrawWeighted(\"M1>>hM1_BG(100,0,10)\",\"BG\");\n",
    "trueTree.Draw(\"M1\",\"Sig==-1\",\"same hist\");\n",
    "canvas.cd(4)\n",
    "splot.DrawWeighted(\"M2>>hM2_BG(100,0,10)\",\"BG\");\n",
    "trueTree.Draw(\"M2\",\"Sig==-1\",\"same hist\");\n",
    "canvas.Draw()"
   ]
  },
  {
   "cell_type": "markdown",
   "metadata": {},
   "source": [
    "If we want to save the weighted tree with all branches inclduing weights you need to use the following line"
   ]
  },
  {
   "cell_type": "code",
   "execution_count": null,
   "metadata": {},
   "outputs": [],
   "source": [
    "splot.DeleteWeightedTree()"
   ]
  },
  {
   "cell_type": "code",
   "execution_count": null,
   "metadata": {},
   "outputs": [],
   "source": []
  }
 ],
 "metadata": {
  "kernelspec": {
   "display_name": "Python 3",
   "language": "python",
   "name": "python3"
  },
  "language_info": {
   "codemirror_mode": {
    "name": "ipython",
    "version": 2
   },
   "file_extension": ".py",
   "mimetype": "text/x-python",
   "name": "python",
   "nbconvert_exporter": "python",
   "pygments_lexer": "ipython2",
   "version": "2.7.15+"
  }
 },
 "nbformat": 4,
 "nbformat_minor": 2
}
